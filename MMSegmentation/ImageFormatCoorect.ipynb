{
 "cells": [
  {
   "cell_type": "code",
   "execution_count": 1,
   "id": "da2b1046",
   "metadata": {},
   "outputs": [],
   "source": [
    "images_dir = 'Watermelon87_Semantic_Seg_Mask/img_dir'"
   ]
  },
  {
   "cell_type": "code",
   "execution_count": 2,
   "id": "669b07eb",
   "metadata": {},
   "outputs": [],
   "source": [
    "import os"
   ]
  },
  {
   "cell_type": "code",
   "execution_count": 3,
   "id": "d2bc241a",
   "metadata": {},
   "outputs": [
    {
     "name": "stdout",
     "output_type": "stream",
     "text": [
      "Watermelon87_Semantic_Seg_Mask/img_dir\\train\\045_sozai_l.jpg\n",
      "Watermelon87_Semantic_Seg_Mask/img_dir\\train\\04_35-2.jpg\n",
      "Watermelon87_Semantic_Seg_Mask/img_dir\\train\\0778_02.jpg\n",
      "Watermelon87_Semantic_Seg_Mask/img_dir\\train\\11-loai-trai-cay-dinh-duong-nen-an-hang-ngay-dua-hau.jpg\n",
      "Watermelon87_Semantic_Seg_Mask/img_dir\\train\\1471253631_2.jpg\n",
      "Watermelon87_Semantic_Seg_Mask/img_dir\\train\\1510702494080_melon_NWS_block-low.jpg\n",
      "Watermelon87_Semantic_Seg_Mask/img_dir\\train\\20170613134012_430390.jpg\n",
      "Watermelon87_Semantic_Seg_Mask/img_dir\\train\\202007220195_top_img_A.jpg\n",
      "Watermelon87_Semantic_Seg_Mask/img_dir\\train\\21746.1.jpg\n",
      "Watermelon87_Semantic_Seg_Mask/img_dir\\train\\2401-food-tip-image-MAIN.jpg\n",
      "Watermelon87_Semantic_Seg_Mask/img_dir\\train\\24a3a0f8a11ae29f8ccca35c822ac0e2991b4773.png\n",
      "Watermelon87_Semantic_Seg_Mask/img_dir\\val\\01bd15599c606aa801201794e1fa30.jpg@1280w_1l_2o_100sh.jpg\n"
     ]
    }
   ],
   "source": [
    "i = 0\n",
    "for root,dirs,files in os.walk(images_dir):\n",
    "    for fi in files:\n",
    "        i+=1\n",
    "        print (os.path.join(root,fi))\n",
    "        \n",
    "        if i >10:\n",
    "            break"
   ]
  },
  {
   "cell_type": "code",
   "execution_count": 7,
   "id": "d8967ab5",
   "metadata": {},
   "outputs": [
    {
     "name": "stdout",
     "output_type": "stream",
     "text": [
      "('01bd15599c606aa801201794e1fa30.jpg@1280w_1l_2o_100sh', '.jpg')\n",
      "('17897490_93d9666602_z', '.jpg')\n",
      "('5b3c8018N634d43bd', '.jpg')\n",
      "('denn-ke-11-7', '.jpg')\n",
      "('depositphotos_204189678-stock-photo-slice-watermelon-white-background', '.jpg')\n",
      "('dua-hau-1', '.jpg')\n",
      "('dun-soi-hat-dua-hau-lay-nuoc-uong-ban-se-bat-ngo-vi-ket-qua-nuochatduah--u1-1493799084-width500height313', '.jpg')\n",
      "('e52m_8686', '.jpg')\n",
      "('L007-05_5', '.jpg')\n",
      "('la_wm_img01', '.jpg')\n",
      "('OIP (11)', '.jpeg')\n",
      "('OIP (13)', '.jpeg')\n",
      "('OIP (4)', '.jpeg')\n",
      "('OIP (9)', '.jpeg')\n",
      "('R (4)', '.jpeg')\n",
      "('R', '.jpeg')\n",
      "('watermelon-medium', '.jpg')\n"
     ]
    }
   ],
   "source": [
    "import cv2\n",
    "# path=path2 = 'D:/github/mmsegmentation/Watermelon87_Semantic_Seg_Mask/img_dir/train/'\n",
    "path=path2 = 'D:/github/mmsegmentation/Watermelon87_Semantic_Seg_Mask/img_dir/val/'\n",
    "images = os.listdir(path)\n",
    "for i in os.listdir(path):\n",
    "    print(os.path.splitext(i))  # ('34474006827920603', '.png')\n",
    "    if os.path.splitext(i)[1] == \".jpeg\":\n",
    "        img = cv2.imread(path + i)\n",
    "        # print(img)\n",
    "        new_imagename = i.replace(\".jpeg\", \".jpg\")\n",
    "        cv2.imwrite(path2 + new_imagename, img)\n",
    "        \n",
    "        os.remove(path2+i)\n",
    " \n",
    "    elif os.path.splitext(i)[1] == \".png\":\n",
    "        img = cv2.imread(path + i)\n",
    "        # print(img)\n",
    "        new_imagename = i.replace(\".png\", \".jpg\")\n",
    "        cv2.imwrite(path2 + new_imagename, img)\n",
    "        \n",
    "        os.remove(path2+i)\n",
    " \n",
    "    elif os.path.splitext(i)[1] == \".JPG\":\n",
    "        img = cv2.imread(path + i)\n",
    "        # print(img)\n",
    "        new_imagename = i.replace(\".JPG\", \".jpg\")\n",
    "        cv2.imwrite(path2 + new_imagename, img)\n",
    "        \n",
    "        os.remove(path2+i)\n",
    " \n",
    "    elif os.path.splitext(i)[1] == \".PNG\":\n",
    "        img = cv2.imread(path + i)\n",
    "        # print(img)\n",
    "        new_imagename = i.replace(\".PNG\", \".jpg\")\n",
    "        cv2.imwrite(path2 + new_imagename, img)\n",
    "        \n",
    "        os.remove(path2+i)\n",
    " \n",
    "    elif os.path.splitext(i)[1] == \".jpg\":\n",
    "        img = cv2.imread(path + i)\n",
    "        # print(img)\n",
    "        cv2.imwrite(path2 + i, img)\n",
    "        \n",
    "        os.remove(path2+i)\n",
    "        \n",
    "        "
   ]
  },
  {
   "cell_type": "code",
   "execution_count": null,
   "id": "fa8653bb",
   "metadata": {},
   "outputs": [],
   "source": []
  }
 ],
 "metadata": {
  "kernelspec": {
   "display_name": "Python [conda env:.conda-mmseg] *",
   "language": "python",
   "name": "conda-env-.conda-mmseg-py"
  },
  "language_info": {
   "codemirror_mode": {
    "name": "ipython",
    "version": 3
   },
   "file_extension": ".py",
   "mimetype": "text/x-python",
   "name": "python",
   "nbconvert_exporter": "python",
   "pygments_lexer": "ipython3",
   "version": "3.9.16"
  }
 },
 "nbformat": 4,
 "nbformat_minor": 5
}
