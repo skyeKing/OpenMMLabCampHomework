{
 "cells": [
  {
   "cell_type": "code",
   "execution_count": null,
   "id": "59992106",
   "metadata": {},
   "outputs": [],
   "source": [
    "from mmagic.apis import MMagicInferencer"
   ]
  },
  {
   "cell_type": "code",
   "execution_count": null,
   "id": "e291315c",
   "metadata": {},
   "outputs": [],
   "source": [
    "# print all supported models for inference.\n",
    "inference_supported_models = MMagicInferencer.get_inference_supported_models()\n",
    "print('all supported models:')\n",
    "print(inference_supported_models)\n",
    "\n",
    "# print all supported tasks for inference.\n",
    "supported_tasks = MMagicInferencer.get_inference_supported_tasks()\n",
    "print('all supported tasks:')\n",
    "print(supported_tasks)\n",
    "\n",
    "# print all supported models for one task, take image translation for example.\n",
    "task_supported_models = MMagicInferencer.get_task_supported_models('Image2Image')\n",
    "print('translation models:')\n",
    "print(task_supported_models)"
   ]
  },
  {
   "cell_type": "code",
   "execution_count": null,
   "id": "6542693b",
   "metadata": {},
   "outputs": [],
   "source": [
    "import cv2\n",
    "import numpy as np\n",
    "import mmcv\n",
    "from mmengine import Config\n",
    "from PIL import Image\n",
    "\n",
    "from mmagic.registry import MODELS\n",
    "from mmagic.utils import register_all_modules\n",
    "\n",
    "register_all_modules()"
   ]
  },
  {
   "cell_type": "code",
   "execution_count": null,
   "id": "2bcbd5e6",
   "metadata": {},
   "outputs": [],
   "source": [
    "cfg = Config.fromfile('configs/controlnet/controlnet-canny.py')"
   ]
  },
  {
   "cell_type": "code",
   "execution_count": null,
   "id": "58d67a45",
   "metadata": {},
   "outputs": [],
   "source": [
    "cfg.model"
   ]
  },
  {
   "cell_type": "code",
   "execution_count": null,
   "id": "32c41b98",
   "metadata": {},
   "outputs": [],
   "source": [
    "controlnet = MODELS.build(cfg.model).cuda()"
   ]
  },
  {
   "cell_type": "code",
   "execution_count": null,
   "id": "7d2647a2",
   "metadata": {},
   "outputs": [],
   "source": [
    "prompt = 'Room with blue walls and a yellow ceiling.'\n",
    "control_url = 'https://user-images.githubusercontent.com/28132635/230288866-99603172-04cb-47b3-8adb-d1aa532d1d2c.jpg'\n",
    "control_img = mmcv.imread(control_url)\n",
    "control = cv2.Canny(control_img, 100, 200)\n",
    "control = control[:, :, None]\n",
    "control = np.concatenate([control] * 3, axis=2)\n",
    "control = Image.fromarray(control)\n",
    "\n",
    "output_dict = controlnet.infer(prompt, control=control)\n",
    "samples = output_dict['samples']\n",
    "for idx, sample in enumerate(samples):\n",
    "    sample.save(f'sample_{idx}.png')\n",
    "controls = output_dict['controls']\n",
    "for idx, control in enumerate(controls):\n",
    "    control.save(f'control_{idx}.png')"
   ]
  }
 ],
 "metadata": {
  "kernelspec": {
   "display_name": "Python [conda env:.conda-mmagic] *",
   "language": "python",
   "name": "conda-env-.conda-mmagic-py"
  },
  "language_info": {
   "codemirror_mode": {
    "name": "ipython",
    "version": 3
   },
   "file_extension": ".py",
   "mimetype": "text/x-python",
   "name": "python",
   "nbconvert_exporter": "python",
   "pygments_lexer": "ipython3",
   "version": "3.8.0"
  }
 },
 "nbformat": 4,
 "nbformat_minor": 5
}
