{
 "cells": [
  {
   "cell_type": "code",
   "execution_count": 1,
   "id": "3c2ea1dd",
   "metadata": {},
   "outputs": [],
   "source": [
    "import os.path as osp\n",
    "\n",
    "import mmcv\n",
    "import mmengine"
   ]
  },
  {
   "cell_type": "code",
   "execution_count": 2,
   "id": "da24119b",
   "metadata": {},
   "outputs": [],
   "source": [
    "def convert_balloon_to_coco(ann_file, out_file, image_prefix):\n",
    "\n",
    "    data_infos = mmengine.load(ann_file)\n",
    "\n",
    "    annotations = []\n",
    "    images = []\n",
    "    obj_count = 0\n",
    "    for idx, v in enumerate(mmengine.track_iter_progress(data_infos.values())):\n",
    "        filename = v['filename']\n",
    "        img_path = osp.join(image_prefix, filename)\n",
    "        height, width = mmcv.imread(img_path).shape[:2]\n",
    "\n",
    "        images.append(\n",
    "            dict(id=idx, file_name=filename, height=height, width=width))\n",
    "\n",
    "        for _, obj in v['regions'].items():\n",
    "            assert not obj['region_attributes']\n",
    "            obj = obj['shape_attributes']\n",
    "            px = obj['all_points_x']\n",
    "            py = obj['all_points_y']\n",
    "            poly = [(x + 0.5, y + 0.5) for x, y in zip(px, py)]\n",
    "            poly = [p for x in poly for p in x]\n",
    "\n",
    "            x_min, y_min, x_max, y_max = (min(px), min(py), max(px), max(py))\n",
    "\n",
    "            data_anno = dict(\n",
    "                image_id=idx,\n",
    "                id=obj_count,\n",
    "                category_id=0,\n",
    "                bbox=[x_min, y_min, x_max - x_min, y_max - y_min],\n",
    "                area=(x_max - x_min) * (y_max - y_min),\n",
    "                segmentation=[poly],\n",
    "                iscrowd=0)\n",
    "            annotations.append(data_anno)\n",
    "            obj_count += 1\n",
    "\n",
    "    coco_format_json = dict(\n",
    "        images=images,\n",
    "        annotations=annotations,\n",
    "        categories=[{\n",
    "            'id': 0,\n",
    "            'name': 'balloon'\n",
    "        }])\n",
    "    mmengine.dump(coco_format_json, out_file)\n"
   ]
  },
  {
   "cell_type": "code",
   "execution_count": 3,
   "id": "1b925632",
   "metadata": {},
   "outputs": [
    {
     "name": "stdout",
     "output_type": "stream",
     "text": [
      "[>>>>>>>>>>>>>>>>>>>>>>>>>>>>>>>>>>>>>>>>>>>>>>>>>>] 61/61, 41.7 task/s, elapsed: 1s, ETA:     0s\n",
      "[>>>>>>>>>>>>>>>>>>>>>>>>>>>>>>>>>>>>>>>>>>>>>>>>>>] 13/13, 40.6 task/s, elapsed: 0s, ETA:     0s\n"
     ]
    }
   ],
   "source": [
    "convert_balloon_to_coco('train/via_region_data.json',\n",
    "                        'train.json', 'train/')\n",
    "convert_balloon_to_coco('val/via_region_data.json',\n",
    "                        'val.json', 'val/')"
   ]
  },
  {
   "cell_type": "code",
   "execution_count": null,
   "id": "e599cc1e",
   "metadata": {},
   "outputs": [],
   "source": []
  }
 ],
 "metadata": {
  "kernelspec": {
   "display_name": "Python [conda env:.conda-mmdet] *",
   "language": "python",
   "name": "conda-env-.conda-mmdet-py"
  },
  "language_info": {
   "codemirror_mode": {
    "name": "ipython",
    "version": 3
   },
   "file_extension": ".py",
   "mimetype": "text/x-python",
   "name": "python",
   "nbconvert_exporter": "python",
   "pygments_lexer": "ipython3",
   "version": "3.10.11"
  }
 },
 "nbformat": 4,
 "nbformat_minor": 5
}
