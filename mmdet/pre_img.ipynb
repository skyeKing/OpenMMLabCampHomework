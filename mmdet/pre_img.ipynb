{
 "cells": [
  {
   "cell_type": "code",
   "execution_count": 2,
   "id": "f31001af",
   "metadata": {},
   "outputs": [],
   "source": [
    "import cv2\n",
    "import mmcv\n",
    "import torch\n",
    "\n",
    "from mmdet.apis import inference_detector, init_detector\n",
    "from mmdet.registry import VISUALIZERS\n",
    "from mmdet.apis import DetInferencer"
   ]
  },
  {
   "cell_type": "code",
   "execution_count": null,
   "id": "0274079c",
   "metadata": {},
   "outputs": [],
   "source": [
    "model = 'work_dirs/balloon_rtmdet/epoch_40.pth'\n",
    "conf = 'work_dirs/balloon_rtmdet/balloon_train_rtmdet.py'\n",
    "img = "
   ]
  },
  {
   "cell_type": "code",
   "execution_count": null,
   "id": "679a044b",
   "metadata": {},
   "outputs": [],
   "source": [
    "!/root/miniconda3/envs/myconda/bin/python demo/image_demo.py balloon_dataset/balloon_test.png balloon_dataset/balloon_rtmdet.py --weights work_dirs/balloon_rtmdet/best_coco_bbox_mAP_epoch_120.pth\n"
   ]
  },
  {
   "cell_type": "code",
   "execution_count": 4,
   "id": "eee59723",
   "metadata": {},
   "outputs": [
    {
     "name": "stdout",
     "output_type": "stream",
     "text": [
      "Help on function inference_detector in module mmdet.apis.inference:\n",
      "\n",
      "inference_detector(model: torch.nn.modules.module.Module, imgs: Union[str, numpy.ndarray, Sequence[str], Sequence[numpy.ndarray]], test_pipeline: Optional[mmcv.transforms.wrappers.Compose] = None) -> Union[mmdet.structures.det_data_sample.DetDataSample, List[mmdet.structures.det_data_sample.DetDataSample]]\n",
      "    Inference image(s) with the detector.\n",
      "    \n",
      "    Args:\n",
      "        model (nn.Module): The loaded detector.\n",
      "        imgs (str, ndarray, Sequence[str/ndarray]):\n",
      "           Either image files or loaded images.\n",
      "        test_pipeline (:obj:`Compose`): Test pipeline.\n",
      "    \n",
      "    Returns:\n",
      "        :obj:`DetDataSample` or list[:obj:`DetDataSample`]:\n",
      "        If imgs is a list or tuple, the same length list type results\n",
      "        will be returned, otherwise return the detection results directly.\n",
      "\n"
     ]
    }
   ],
   "source": [
    "help(inference_detector)"
   ]
  },
  {
   "cell_type": "code",
   "execution_count": null,
   "id": "92b254de",
   "metadata": {},
   "outputs": [],
   "source": [
    "device = torch.device('cuda:0')\n",
    "model = ''\n",
    "result = inference_detector(model, img)\n",
    "\n",
    "img = mmcv.imconvert(img, 'bgr', 'rgb')\n",
    "visualizer.add_datasample(\n",
    "    name='result',\n",
    "    image=img,\n",
    "    data_sample=result,\n",
    "    draw_gt=False,\n",
    "    pred_score_thr=args.score_thr,\n",
    "    show=False)\n",
    "\n",
    "img = visualizer.get_image()\n",
    "img = mmcv.imconvert(img, 'bgr', 'rgb')\n",
    "cv2.imshow('result', img)"
   ]
  }
 ],
 "metadata": {
  "kernelspec": {
   "display_name": "Python [conda env:.conda-mmdet] *",
   "language": "python",
   "name": "conda-env-.conda-mmdet-py"
  },
  "language_info": {
   "codemirror_mode": {
    "name": "ipython",
    "version": 3
   },
   "file_extension": ".py",
   "mimetype": "text/x-python",
   "name": "python",
   "nbconvert_exporter": "python",
   "pygments_lexer": "ipython3",
   "version": "3.10.11"
  }
 },
 "nbformat": 4,
 "nbformat_minor": 5
}
